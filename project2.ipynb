{
 "cells": [
  {
   "cell_type": "code",
   "execution_count": null,
   "id": "ace17968-74ef-4605-9528-99627b949728",
   "metadata": {
    "id": "ace17968-74ef-4605-9528-99627b949728"
   },
   "outputs": [],
   "source": [
    "import pandas as pd\n",
    "import seaborn as sns\n",
    "from matplotlib import pyplot as plt\n",
    "from scipy import stats"
   ]
  },
  {
   "cell_type": "code",
   "execution_count": null,
   "id": "ced83e60-dbba-43bd-9469-3d0ea38f352d",
   "metadata": {
    "id": "ced83e60-dbba-43bd-9469-3d0ea38f352d"
   },
   "outputs": [],
   "source": [
    "df = pd.read_csv(\"core/crime-housing-austin-2015.csv\")\n",
    "df_zip = pd.read_csv(\"core/AustinZipCodes.csv\", thousands=',')\n",
    "df_zip = df_zip.rename(columns={'Zip Code':'Zip_Code_Housing'})\n",
    "df = pd.merge(df, df_zip, on='Zip_Code_Housing')"
   ]
  },
  {
   "cell_type": "code",
   "execution_count": null,
   "id": "3d7187fd-096a-446f-9caa-aebf84dff1b9",
   "metadata": {
    "id": "3d7187fd-096a-446f-9caa-aebf84dff1b9"
   },
   "outputs": [],
   "source": [
    "# convert str to float\n",
    "arr_currency = [\n",
    "    'Medianhouseholdincome',\n",
    "    'Medianhomevalue'\n",
    "]\n",
    "arr_percent = [\n",
    "    'Populationbelowpovertylevel',\n",
    "    'Populationwithdisability',\n",
    "    'Unemployment',\n",
    "    'Largehouseholds(5+members)',\n",
    "    'Rentalunitsaffordabletoaverageretail/serviceworker',\n",
    "    'Rentalunitsaffordabletoaverageartist',\n",
    "    'Rentalunitsaffordabletoaverageteacher',\n",
    "    'Rentalunitsaffordabletoaveragetechworker'\n",
    "]\n",
    "for col in arr_currency:\n",
    "    df[col] = df[col].str.replace('$', '', regex=False).astype('float')\n",
    "for col in arr_percent:\n",
    "    df[col] = df[col].str.replace('%', '', regex=False).astype('float') / 100\n",
    "df['People / Sq. Mile'] = df['People / Sq. Mile'].astype('float')"
   ]
  },
  {
   "cell_type": "code",
   "execution_count": null,
   "id": "f086f6b9-2dcf-4499-bbdc-b1ca0e64d1a8",
   "metadata": {
    "colab": {
     "base_uri": "https://localhost:8080/",
     "height": 504
    },
    "id": "f086f6b9-2dcf-4499-bbdc-b1ca0e64d1a8",
    "outputId": "775be4b2-b914-4f6f-b817-2eb78621df09"
   },
   "outputs": [],
   "source": [
    "fig, ax = plt.subplots(1,1,figsize=(5,5))\n",
    "ax = plt.subplot(1,1,1)\n",
    "ax.scatter(\n",
    "    x=df['People / Sq. Mile'],\n",
    "    y=df['Medianhouseholdincome'],\n",
    ")\n",
    "ax.set_xlabel('People / Sq. Mile')\n",
    "ax.set_ylabel('Median Household Income')\n",
    "ax.set_title('Population Density vs. Median Income')"
   ]
  },
  {
   "cell_type": "code",
   "execution_count": null,
   "id": "c2e2f5b5-4444-4941-b815-d4d5d0ee0f11",
   "metadata": {
    "colab": {
     "base_uri": "https://localhost:8080/",
     "height": 504
    },
    "id": "c2e2f5b5-4444-4941-b815-d4d5d0ee0f11",
    "outputId": "6730fb16-e254-4c77-d77b-cadf216f262f"
   },
   "outputs": [],
   "source": [
    "fig, ax = plt.subplots(1,1,figsize=(5,5))\n",
    "ax = plt.subplot(1,1,1)\n",
    "ax.scatter(\n",
    "    x=df['Populationwithdisability'],\n",
    "    y=df['Medianhouseholdincome'],\n",
    ")\n",
    "ax.set_xlabel('Proportion of Population with Disability')\n",
    "ax.set_ylabel('Median Household Income')\n",
    "ax.set_title('Disablilty vs. Median Income')"
   ]
  },
  {
   "cell_type": "code",
   "execution_count": null,
   "id": "ec5364d6-206a-4e98-9414-099c9a1273da",
   "metadata": {
    "colab": {
     "base_uri": "https://localhost:8080/",
     "height": 504
    },
    "id": "ec5364d6-206a-4e98-9414-099c9a1273da",
    "outputId": "27082722-07b3-4f57-9d3c-cdca08754b14"
   },
   "outputs": [],
   "source": [
    "fig, ax = plt.subplots(1,1,figsize=(5,5))\n",
    "ax = plt.subplot(1,1,1)\n",
    "ax.scatter(\n",
    "    x=df['Largehouseholds(5+members)'],\n",
    "    y=df['Medianhouseholdincome'],\n",
    ")\n",
    "ax.set_xlabel('Large households (5+members)')\n",
    "ax.set_ylabel('Median Household Income')\n",
    "ax.set_title('Large Households vs. Median Income')"
   ]
  },
  {
   "cell_type": "code",
   "execution_count": null,
   "id": "9f0acc23-8a94-4d8d-b3da-d786d18d09b4",
   "metadata": {
    "colab": {
     "base_uri": "https://localhost:8080/",
     "height": 69
    },
    "id": "9f0acc23-8a94-4d8d-b3da-d786d18d09b4",
    "outputId": "fca516d5-9e0e-428c-deaa-f92044bc8e73"
   },
   "outputs": [],
   "source": [
    "display(stats.pearsonr(df['Medianhouseholdincome'].dropna(), df['People / Sq. Mile'].dropna()))\n",
    "display(stats.pearsonr(df['Medianhouseholdincome'].dropna(), df['Populationwithdisability'].dropna()))\n",
    "display(stats.pearsonr(df['Medianhouseholdincome'].dropna(), df['Largehouseholds(5+members)'].dropna()))"
   ]
  },
  {
   "cell_type": "code",
   "execution_count": null,
   "id": "JQ04WpeN2uWx",
   "metadata": {
    "colab": {
     "base_uri": "https://localhost:8080/",
     "height": 706
    },
    "id": "JQ04WpeN2uWx",
    "outputId": "971f2d81-4959-4d98-c9fc-3b62d5b80ed0"
   },
   "outputs": [],
   "source": [
    "# Select the relevant columns\n",
    "columns_to_plot = [\n",
    "    'Rentalunitsaffordabletoaverageretail/serviceworker',\n",
    "    'Rentalunitsaffordabletoaverageartist',\n",
    "    'Rentalunitsaffordabletoaverageteacher',\n",
    "    'Rentalunitsaffordabletoaveragetechworker'\n",
    "]\n",
    "\n",
    "# Create a new DataFrame with only the selected columns\n",
    "df_plot = df[['Medianhouseholdincome'] + columns_to_plot].copy()\n",
    "\n",
    "# Rename columns to plot\n",
    "df_plot.rename(columns = {'Rentalunitsaffordabletoaverageretail/serviceworker':'Serviceworker',\n",
    "                          'Rentalunitsaffordabletoaverageartist':'Artist',\n",
    "                          'Rentalunitsaffordabletoaverageteacher':'Teacher',\n",
    "                          'Rentalunitsaffordabletoaveragetechworker':'Techworker'},\n",
    "               inplace = True)\n",
    "\n",
    "# Melt the DataFrame\n",
    "df_melted = pd.melt(df_plot, id_vars='Medianhouseholdincome', var_name='Occupation', value_name='Value')\n",
    "\n",
    "# Plot using Seaborn\n",
    "sns.set(style=\"whitegrid\")\n",
    "# plt.figure(figsize=(10, 6))\n",
    "bar_plot = sns.barplot(x='Occupation', y='Value', hue='Occupation', data=df_melted,errorbar='sd')\n",
    "\n",
    "# Set plot labels and title\n",
    "plt.xlabel('Occupation')\n",
    "plt.ylabel('Median Household Income')\n",
    "plt.title('Median Household Income vs. Rental Units Affordability')\n",
    "plt.show()\n",
    "\n",
    "grouped_data = df_melted.groupby('Occupation')['Value']\n",
    "means = grouped_data.mean()\n",
    "std_devs = grouped_data.std()\n",
    "print('Mean:',means)\n",
    "print('\\nStandard Deviation:',std_devs)"
   ]
  },
  {
   "cell_type": "code",
   "execution_count": null,
   "id": "yLFEay2iIaWs",
   "metadata": {
    "colab": {
     "base_uri": "https://localhost:8080/",
     "height": 576
    },
    "id": "yLFEay2iIaWs",
    "outputId": "5374f54a-6c5a-4e23-b6e1-f64a41a4e254"
   },
   "outputs": [],
   "source": [
    "columns_to_plot = [\n",
    "    'Rentalunitsaffordabletoaverageartist',\n",
    "    'Rentalunitsaffordabletoaverageteacher'\n",
    "]\n",
    "\n",
    "# Create a new DataFrame with only the selected columns\n",
    "df_plot = df[['Medianhouseholdincome'] + columns_to_plot].copy()\n",
    "\n",
    "# Drop rows with missing values and values equal to 0\n",
    "df_plot = df_plot.dropna().query('Rentalunitsaffordabletoaverageartist != 0 and Rentalunitsaffordabletoaverageteacher != 0')\n",
    "\n",
    "# Melt the DataFrame to have a 'variable' column for the categories\n",
    "df_melted = pd.melt(df_plot, id_vars='Medianhouseholdincome', var_name='Category', value_name='Value')\n",
    "\n",
    "# KDE Plot\n",
    "plt.figure()\n",
    "sns.displot(data=df_melted, x='Value', hue='Category', kind='kde')\n",
    "plt.title('Distribution of Median Household Income vs. Rental Units Affordability')\n",
    "plt.xlabel('Value')\n",
    "plt.ylabel('Density')\n",
    "plt.show()\n",
    "\n",
    "# T-test\n",
    "category1 = df_melted[df_melted['Category'] == 'Rentalunitsaffordabletoaverageartist']['Value']\n",
    "category2 = df_melted[df_melted['Category'] == 'Rentalunitsaffordabletoaverageteacher']['Value']\n",
    "\n",
    "# Perform the t-test\n",
    "t_stat = stats.ttest_ind(category1, category2)\n",
    "print(f\"{t_stat}\")\n",
    "print(f\"Mean for Artist: {category1.mean()}\")\n",
    "print(f\"Mean for Teacher: {category2.mean()}\")\n"
   ]
  }
 ],
 "metadata": {
  "colab": {
   "provenance": []
  },
  "kernelspec": {
   "display_name": "Python 3 (ipykernel)",
   "language": "python",
   "name": "python3"
  },
  "language_info": {
   "codemirror_mode": {
    "name": "ipython",
    "version": 3
   },
   "file_extension": ".py",
   "mimetype": "text/x-python",
   "name": "python",
   "nbconvert_exporter": "python",
   "pygments_lexer": "ipython3",
   "version": "3.10.6"
  }
 },
 "nbformat": 4,
 "nbformat_minor": 5
}
